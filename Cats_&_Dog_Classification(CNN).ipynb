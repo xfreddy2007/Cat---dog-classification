{
  "nbformat": 4,
  "nbformat_minor": 0,
  "metadata": {
    "colab": {
      "name": "Cats-&-Dog-Classification(CNN)",
      "provenance": [],
      "collapsed_sections": []
    },
    "kernelspec": {
      "name": "python3",
      "display_name": "Python 3"
    },
    "accelerator": "GPU"
  },
  "cells": [
    {
      "cell_type": "markdown",
      "metadata": {
        "id": "3DR-eO17geWu"
      },
      "source": [
        "# Convolutional Neural Network"
      ]
    },
    {
      "cell_type": "markdown",
      "metadata": {
        "id": "EMefrVPCg-60"
      },
      "source": [
        "### Importing the libraries"
      ]
    },
    {
      "cell_type": "code",
      "metadata": {
        "id": "StUqn7Pwr2Ye"
      },
      "source": [
        "import numpy as np\n",
        "import pandas as pd\n",
        "import matplotlib.pyplot as plt\n",
        "\n",
        "import tensorflow as tf\n",
        "\n",
        "from keras.preprocessing.image import ImageDataGenerator"
      ],
      "execution_count": null,
      "outputs": []
    },
    {
      "cell_type": "code",
      "metadata": {
        "colab": {
          "base_uri": "https://localhost:8080/"
        },
        "id": "BNVOkKTWr3XD",
        "outputId": "f57456ed-b0e3-4f94-b03f-c23c92817229"
      },
      "source": [
        "# Check for GPU availability\n",
        "print(\"GPU\", \"available (YES!!!)\" if tf.config.list_physical_devices(\"GPU\") else \"not available:(\")"
      ],
      "execution_count": null,
      "outputs": [
        {
          "output_type": "stream",
          "text": [
            "GPU available (YES!!!)\n"
          ],
          "name": "stdout"
        }
      ]
    },
    {
      "cell_type": "code",
      "metadata": {
        "colab": {
          "base_uri": "https://localhost:8080/",
          "height": 35
        },
        "id": "LVhzbsOer8ut",
        "outputId": "a2304720-6aad-4552-cf99-94b257c7b0e2"
      },
      "source": [
        "tf.__version__"
      ],
      "execution_count": null,
      "outputs": [
        {
          "output_type": "execute_result",
          "data": {
            "application/vnd.google.colaboratory.intrinsic+json": {
              "type": "string"
            },
            "text/plain": [
              "'2.4.0'"
            ]
          },
          "metadata": {
            "tags": []
          },
          "execution_count": 3
        }
      ]
    },
    {
      "cell_type": "code",
      "metadata": {
        "colab": {
          "base_uri": "https://localhost:8080/"
        },
        "id": "9dZhqiIh0xYM",
        "outputId": "90f6737a-0714-4209-9678-0d49d81f2656"
      },
      "source": [
        "from google.colab import drive\n",
        "drive.mount('/content/drive')"
      ],
      "execution_count": null,
      "outputs": [
        {
          "output_type": "stream",
          "text": [
            "Drive already mounted at /content/drive; to attempt to forcibly remount, call drive.mount(\"/content/drive\", force_remount=True).\n"
          ],
          "name": "stdout"
        }
      ]
    },
    {
      "cell_type": "markdown",
      "metadata": {
        "id": "oxQxCBWyoGPE"
      },
      "source": [
        "## Part 1 - Data Preprocessing"
      ]
    },
    {
      "cell_type": "markdown",
      "metadata": {
        "id": "MvE-heJNo3GG"
      },
      "source": [
        "### Preprocessing the Training set\n",
        "\n",
        "Apply some tranformation on images to avoid overfitting. (Image augmentation)"
      ]
    },
    {
      "cell_type": "code",
      "metadata": {
        "colab": {
          "base_uri": "https://localhost:8080/"
        },
        "id": "CmBJSaL3tCGT",
        "outputId": "b111c4eb-d322-422d-90e3-159b653d11ca"
      },
      "source": [
        "train_datagen = ImageDataGenerator(rescale = 1./255,\n",
        "                                   shear_range = 0.2,\n",
        "                                   zoom_range = 0.2,\n",
        "                                   horizontal_flip = True)\n",
        "training_set = train_datagen.flow_from_directory('drive/MyDrive/Deep-learning-A-to-Z/CNN/dataset/training_set',\n",
        "                                                 target_size = (64, 64),\n",
        "                                                 batch_size = 32,\n",
        "                                                 class_mode = 'binary')"
      ],
      "execution_count": null,
      "outputs": [
        {
          "output_type": "stream",
          "text": [
            "Found 8010 images belonging to 2 classes.\n"
          ],
          "name": "stdout"
        }
      ]
    },
    {
      "cell_type": "markdown",
      "metadata": {
        "id": "mrCMmGw9pHys"
      },
      "source": [
        "### Preprocessing the Test set"
      ]
    },
    {
      "cell_type": "code",
      "metadata": {
        "colab": {
          "base_uri": "https://localhost:8080/"
        },
        "id": "MSfCqnd1vpNI",
        "outputId": "f9b8646b-04d8-4367-9850-c3231fb75e9a"
      },
      "source": [
        "test_datagen = ImageDataGenerator(rescale=1./255)\n",
        "test_set = test_datagen.flow_from_directory(\n",
        "                'drive/MyDrive/Deep-learning-A-to-Z/CNN/dataset/test_set',\n",
        "                target_size = (64, 64),\n",
        "                batch_size = 32,\n",
        "                class_mode = 'binary'\n",
        ")"
      ],
      "execution_count": null,
      "outputs": [
        {
          "output_type": "stream",
          "text": [
            "Found 2000 images belonging to 2 classes.\n"
          ],
          "name": "stdout"
        }
      ]
    },
    {
      "cell_type": "markdown",
      "metadata": {
        "id": "af8O4l90gk7B"
      },
      "source": [
        "## Part 2 - Building the CNN"
      ]
    },
    {
      "cell_type": "markdown",
      "metadata": {
        "id": "ces1gXY2lmoX"
      },
      "source": [
        "### Initialising the CNN"
      ]
    },
    {
      "cell_type": "code",
      "metadata": {
        "id": "DJeZrghswpy5"
      },
      "source": [
        "cnn = tf.keras.models.Sequential()"
      ],
      "execution_count": null,
      "outputs": []
    },
    {
      "cell_type": "markdown",
      "metadata": {
        "id": "u5YJj_XMl5LF"
      },
      "source": [
        "### Step 1 - Convolution"
      ]
    },
    {
      "cell_type": "code",
      "metadata": {
        "id": "SnL43czuw4KI"
      },
      "source": [
        "cnn.add(tf.keras.layers.Conv2D(filters=32, kernel_size=3, activation='relu', input_shape=[64,64,3]))"
      ],
      "execution_count": null,
      "outputs": []
    },
    {
      "cell_type": "markdown",
      "metadata": {
        "id": "tf87FpvxmNOJ"
      },
      "source": [
        "### Step 2 - Pooling"
      ]
    },
    {
      "cell_type": "code",
      "metadata": {
        "id": "pN4YZutVyKvH"
      },
      "source": [
        "cnn.add(tf.keras.layers.MaxPool2D(pool_size=2, strides=2))"
      ],
      "execution_count": null,
      "outputs": []
    },
    {
      "cell_type": "markdown",
      "metadata": {
        "id": "xaTOgD8rm4mU"
      },
      "source": [
        "### Adding a second convolutional layer"
      ]
    },
    {
      "cell_type": "code",
      "metadata": {
        "id": "-lLIhkMczKLn"
      },
      "source": [
        "cnn.add(tf.keras.layers.Conv2D(filters=32, kernel_size=3, activation='relu'))\n",
        "cnn.add(tf.keras.layers.MaxPool2D(pool_size=2, strides=2))"
      ],
      "execution_count": null,
      "outputs": []
    },
    {
      "cell_type": "markdown",
      "metadata": {
        "id": "tmiEuvTunKfk"
      },
      "source": [
        "### Step 3 - Flattening"
      ]
    },
    {
      "cell_type": "code",
      "metadata": {
        "id": "osr6RKQ4zW30"
      },
      "source": [
        "cnn.add(tf.keras.layers.Flatten())"
      ],
      "execution_count": null,
      "outputs": []
    },
    {
      "cell_type": "markdown",
      "metadata": {
        "id": "dAoSECOm203v"
      },
      "source": [
        "### Step 4 - Full Connection"
      ]
    },
    {
      "cell_type": "code",
      "metadata": {
        "id": "y-tq10u5zpG2"
      },
      "source": [
        "cnn.add(tf.keras.layers.Dense(units=128, activation='relu'))"
      ],
      "execution_count": null,
      "outputs": []
    },
    {
      "cell_type": "markdown",
      "metadata": {
        "id": "yTldFvbX28Na"
      },
      "source": [
        "### Step 5 - Output Layer"
      ]
    },
    {
      "cell_type": "code",
      "metadata": {
        "id": "9w860R970K_T"
      },
      "source": [
        "cnn.add(tf.keras.layers.Dense(units=1, activation='sigmoid'))"
      ],
      "execution_count": null,
      "outputs": []
    },
    {
      "cell_type": "markdown",
      "metadata": {
        "id": "D6XkI90snSDl"
      },
      "source": [
        "## Part 3 - Training the CNN"
      ]
    },
    {
      "cell_type": "markdown",
      "metadata": {
        "id": "vfrFQACEnc6i"
      },
      "source": [
        "### Compiling the CNN"
      ]
    },
    {
      "cell_type": "code",
      "metadata": {
        "id": "8xVHEjRv0fpv"
      },
      "source": [
        "cnn.compile(\n",
        "    optimizer='adam',\n",
        "    loss='binary_crossentropy',\n",
        "    metrics=['accuracy']\n",
        ")"
      ],
      "execution_count": null,
      "outputs": []
    },
    {
      "cell_type": "markdown",
      "metadata": {
        "id": "ehS-v3MIpX2h"
      },
      "source": [
        "### Training the CNN on the Training set and evaluating it on the Test set"
      ]
    },
    {
      "cell_type": "code",
      "metadata": {
        "colab": {
          "base_uri": "https://localhost:8080/"
        },
        "id": "fgyLi-MO1XEK",
        "outputId": "e057ff0c-0317-4299-954f-c7a1f3e106b2"
      },
      "source": [
        "cnn.fit(x=training_set, validation_data = test_set, epochs=25)"
      ],
      "execution_count": null,
      "outputs": [
        {
          "output_type": "stream",
          "text": [
            "Epoch 1/25\n",
            "251/251 [==============================] - 51s 196ms/step - loss: 0.6967 - accuracy: 0.5412 - val_loss: 0.5787 - val_accuracy: 0.7055\n",
            "Epoch 2/25\n",
            "251/251 [==============================] - 48s 192ms/step - loss: 0.5992 - accuracy: 0.6759 - val_loss: 0.5820 - val_accuracy: 0.7010\n",
            "Epoch 3/25\n",
            "251/251 [==============================] - 48s 192ms/step - loss: 0.5375 - accuracy: 0.7320 - val_loss: 0.4987 - val_accuracy: 0.7655\n",
            "Epoch 4/25\n",
            "251/251 [==============================] - 49s 193ms/step - loss: 0.5281 - accuracy: 0.7395 - val_loss: 0.4924 - val_accuracy: 0.7560\n",
            "Epoch 5/25\n",
            "251/251 [==============================] - 48s 191ms/step - loss: 0.5102 - accuracy: 0.7482 - val_loss: 0.4861 - val_accuracy: 0.7745\n",
            "Epoch 6/25\n",
            "251/251 [==============================] - 47s 187ms/step - loss: 0.4770 - accuracy: 0.7704 - val_loss: 0.4961 - val_accuracy: 0.7540\n",
            "Epoch 7/25\n",
            "251/251 [==============================] - 46s 185ms/step - loss: 0.4743 - accuracy: 0.7726 - val_loss: 0.4656 - val_accuracy: 0.7820\n",
            "Epoch 8/25\n",
            "251/251 [==============================] - 47s 186ms/step - loss: 0.4558 - accuracy: 0.7891 - val_loss: 0.4580 - val_accuracy: 0.7880\n",
            "Epoch 9/25\n",
            "251/251 [==============================] - 47s 187ms/step - loss: 0.4341 - accuracy: 0.7899 - val_loss: 0.5135 - val_accuracy: 0.7540\n",
            "Epoch 10/25\n",
            "251/251 [==============================] - 47s 186ms/step - loss: 0.4058 - accuracy: 0.8109 - val_loss: 0.4730 - val_accuracy: 0.7870\n",
            "Epoch 11/25\n",
            "251/251 [==============================] - 47s 187ms/step - loss: 0.4014 - accuracy: 0.8172 - val_loss: 0.4806 - val_accuracy: 0.7805\n",
            "Epoch 12/25\n",
            "251/251 [==============================] - 47s 186ms/step - loss: 0.3849 - accuracy: 0.8235 - val_loss: 0.4527 - val_accuracy: 0.7880\n",
            "Epoch 13/25\n",
            "251/251 [==============================] - 47s 186ms/step - loss: 0.3881 - accuracy: 0.8295 - val_loss: 0.4808 - val_accuracy: 0.7975\n",
            "Epoch 14/25\n",
            "251/251 [==============================] - 47s 189ms/step - loss: 0.3691 - accuracy: 0.8375 - val_loss: 0.4379 - val_accuracy: 0.8025\n",
            "Epoch 15/25\n",
            "251/251 [==============================] - 47s 186ms/step - loss: 0.3581 - accuracy: 0.8395 - val_loss: 0.4590 - val_accuracy: 0.7895\n",
            "Epoch 16/25\n",
            "251/251 [==============================] - 47s 187ms/step - loss: 0.3435 - accuracy: 0.8475 - val_loss: 0.4509 - val_accuracy: 0.7910\n",
            "Epoch 17/25\n",
            "251/251 [==============================] - 47s 186ms/step - loss: 0.3230 - accuracy: 0.8562 - val_loss: 0.4819 - val_accuracy: 0.7950\n",
            "Epoch 18/25\n",
            "251/251 [==============================] - 47s 185ms/step - loss: 0.3342 - accuracy: 0.8489 - val_loss: 0.4991 - val_accuracy: 0.7870\n",
            "Epoch 19/25\n",
            "251/251 [==============================] - 47s 185ms/step - loss: 0.2989 - accuracy: 0.8691 - val_loss: 0.4872 - val_accuracy: 0.7920\n",
            "Epoch 20/25\n",
            "251/251 [==============================] - 47s 186ms/step - loss: 0.2951 - accuracy: 0.8754 - val_loss: 0.4842 - val_accuracy: 0.7965\n",
            "Epoch 21/25\n",
            "251/251 [==============================] - 47s 189ms/step - loss: 0.2887 - accuracy: 0.8749 - val_loss: 0.5229 - val_accuracy: 0.7890\n",
            "Epoch 22/25\n",
            "251/251 [==============================] - 46s 185ms/step - loss: 0.2946 - accuracy: 0.8712 - val_loss: 0.5115 - val_accuracy: 0.7895\n",
            "Epoch 23/25\n",
            "251/251 [==============================] - 47s 187ms/step - loss: 0.2629 - accuracy: 0.8909 - val_loss: 0.4734 - val_accuracy: 0.8175\n",
            "Epoch 24/25\n",
            "251/251 [==============================] - 47s 187ms/step - loss: 0.2540 - accuracy: 0.8922 - val_loss: 0.4487 - val_accuracy: 0.8255\n",
            "Epoch 25/25\n",
            "251/251 [==============================] - 47s 186ms/step - loss: 0.2468 - accuracy: 0.8926 - val_loss: 0.4556 - val_accuracy: 0.8100\n"
          ],
          "name": "stdout"
        },
        {
          "output_type": "execute_result",
          "data": {
            "text/plain": [
              "<tensorflow.python.keras.callbacks.History at 0x7f4fb7cf1710>"
            ]
          },
          "metadata": {
            "tags": []
          },
          "execution_count": 15
        }
      ]
    },
    {
      "cell_type": "markdown",
      "metadata": {
        "id": "U3PZasO0006Z"
      },
      "source": [
        "## Part 4 - Making a single prediction\n",
        "\n",
        "1. Import some relevent module"
      ]
    },
    {
      "cell_type": "code",
      "metadata": {
        "id": "k5J7nPEu2tLG"
      },
      "source": [
        "from keras.preprocessing import image"
      ],
      "execution_count": null,
      "outputs": []
    },
    {
      "cell_type": "code",
      "metadata": {
        "id": "6qtX5mA-3Cza"
      },
      "source": [
        "test_image = image.load_img(\n",
        "    'drive/MyDrive/Deep-learning-A-to-Z/CNN/dataset/single_prediction/cat_or_dog_1.jpg',\n",
        "    target_size=(64,64)\n",
        ")\n",
        "test_image = image.img_to_array(test_image)\n",
        "test_image = np.expand_dims(test_image, axis=0)\n",
        "result = cnn.predict(test_image)\n",
        "\n",
        "training_set.class_indices\n",
        "if result[0][0] > 0.5:\n",
        "  prediction = 'dog'\n",
        "else:\n",
        "  prediction = 'cat'"
      ],
      "execution_count": null,
      "outputs": []
    },
    {
      "cell_type": "code",
      "metadata": {
        "id": "EIE8N7da52TC",
        "colab": {
          "base_uri": "https://localhost:8080/"
        },
        "outputId": "dd20e6af-b8b8-488d-a429-e89f6b81409e"
      },
      "source": [
        "print(result[0][0])\n",
        "print(prediction)"
      ],
      "execution_count": null,
      "outputs": [
        {
          "output_type": "stream",
          "text": [
            "1.0\n",
            "dog\n"
          ],
          "name": "stdout"
        }
      ]
    }
  ]
}